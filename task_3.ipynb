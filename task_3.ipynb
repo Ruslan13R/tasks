{
 "cells": [
  {
   "cell_type": "code",
   "execution_count": 1,
   "id": "69c1e958-73ca-4270-9695-59bb06c01f48",
   "metadata": {},
   "outputs": [],
   "source": [
    "import pandas as pd\n",
    "import seaborn as sns\n",
    "from matplotlib import pyplot as plt\n",
    "import numpy as np"
   ]
  },
  {
   "cell_type": "code",
   "execution_count": 2,
   "id": "6418dfde-6334-4842-8878-3a87fac2de08",
   "metadata": {},
   "outputs": [],
   "source": [
    "data_transactions = {\n",
    "    'transaction_id': [1, 2, 3, 4, 5, 6, 7, 8],\n",
    "    'client_id': [101, 102, 101, 103, 102, 101, 103, 102],\n",
    "    'transaction_date': ['2024-01-15', '2024-02-20', '2024-03-10', '2024-04-05', '2024-05-12', '2023-12-25', '2024-06-01', '2024-07-18'],\n",
    "    'amount': ['1000.50', '200.75', '150.00', '500.25', '300.50', '1200.00', '700.00', '400.00'],\n",
    "    'currency': ['USD', 'EUR', 'USD', 'USD', 'EUR', 'USD', 'USD', 'EUR'],\n",
    "    'transaction_type': ['deposit', 'withdrawal', 'deposit', 'withdrawal', 'deposit', 'deposit', 'withdrawal', 'withdrawal']\n",
    "}"
   ]
  },
  {
   "cell_type": "code",
   "execution_count": 3,
   "id": "4262295e-dcd7-4d24-b7f2-8b998af56a3e",
   "metadata": {},
   "outputs": [],
   "source": [
    "data_clients = {\n",
    "    'client_id': [101, 102, 103],\n",
    "    'client_name': ['Иван Иванов', 'Петр Петров', 'Сидор Сидоров'],\n",
    "    'registration_date': ['2023-12-01', '2024-01-10', '2024-02-15'],\n",
    "    'client_status': ['active', 'active', 'inactive']\n",
    "}"
   ]
  },
  {
   "cell_type": "code",
   "execution_count": 4,
   "id": "10561abb-e09e-4224-a2d6-c96cf5cfe38c",
   "metadata": {},
   "outputs": [],
   "source": [
    "transactions = pd.DataFrame(data_transactions)\n",
    "clients = pd.DataFrame(data_clients)"
   ]
  },
  {
   "cell_type": "code",
   "execution_count": 5,
   "id": "d3b5a3d9-aeae-4cf0-bbd0-31693bc3fcee",
   "metadata": {},
   "outputs": [
    {
     "data": {
      "text/html": [
       "<div>\n",
       "<style scoped>\n",
       "    .dataframe tbody tr th:only-of-type {\n",
       "        vertical-align: middle;\n",
       "    }\n",
       "\n",
       "    .dataframe tbody tr th {\n",
       "        vertical-align: top;\n",
       "    }\n",
       "\n",
       "    .dataframe thead th {\n",
       "        text-align: right;\n",
       "    }\n",
       "</style>\n",
       "<table border=\"1\" class=\"dataframe\">\n",
       "  <thead>\n",
       "    <tr style=\"text-align: right;\">\n",
       "      <th></th>\n",
       "      <th>transaction_id</th>\n",
       "      <th>client_id</th>\n",
       "      <th>transaction_date</th>\n",
       "      <th>amount</th>\n",
       "      <th>currency</th>\n",
       "      <th>transaction_type</th>\n",
       "    </tr>\n",
       "  </thead>\n",
       "  <tbody>\n",
       "    <tr>\n",
       "      <th>0</th>\n",
       "      <td>1</td>\n",
       "      <td>101</td>\n",
       "      <td>2024-01-15</td>\n",
       "      <td>1000.50</td>\n",
       "      <td>USD</td>\n",
       "      <td>deposit</td>\n",
       "    </tr>\n",
       "    <tr>\n",
       "      <th>1</th>\n",
       "      <td>2</td>\n",
       "      <td>102</td>\n",
       "      <td>2024-02-20</td>\n",
       "      <td>200.75</td>\n",
       "      <td>EUR</td>\n",
       "      <td>withdrawal</td>\n",
       "    </tr>\n",
       "    <tr>\n",
       "      <th>2</th>\n",
       "      <td>3</td>\n",
       "      <td>101</td>\n",
       "      <td>2024-03-10</td>\n",
       "      <td>150.00</td>\n",
       "      <td>USD</td>\n",
       "      <td>deposit</td>\n",
       "    </tr>\n",
       "    <tr>\n",
       "      <th>3</th>\n",
       "      <td>4</td>\n",
       "      <td>103</td>\n",
       "      <td>2024-04-05</td>\n",
       "      <td>500.25</td>\n",
       "      <td>USD</td>\n",
       "      <td>withdrawal</td>\n",
       "    </tr>\n",
       "    <tr>\n",
       "      <th>4</th>\n",
       "      <td>5</td>\n",
       "      <td>102</td>\n",
       "      <td>2024-05-12</td>\n",
       "      <td>300.50</td>\n",
       "      <td>EUR</td>\n",
       "      <td>deposit</td>\n",
       "    </tr>\n",
       "    <tr>\n",
       "      <th>5</th>\n",
       "      <td>6</td>\n",
       "      <td>101</td>\n",
       "      <td>2023-12-25</td>\n",
       "      <td>1200.00</td>\n",
       "      <td>USD</td>\n",
       "      <td>deposit</td>\n",
       "    </tr>\n",
       "    <tr>\n",
       "      <th>6</th>\n",
       "      <td>7</td>\n",
       "      <td>103</td>\n",
       "      <td>2024-06-01</td>\n",
       "      <td>700.00</td>\n",
       "      <td>USD</td>\n",
       "      <td>withdrawal</td>\n",
       "    </tr>\n",
       "    <tr>\n",
       "      <th>7</th>\n",
       "      <td>8</td>\n",
       "      <td>102</td>\n",
       "      <td>2024-07-18</td>\n",
       "      <td>400.00</td>\n",
       "      <td>EUR</td>\n",
       "      <td>withdrawal</td>\n",
       "    </tr>\n",
       "  </tbody>\n",
       "</table>\n",
       "</div>"
      ],
      "text/plain": [
       "   transaction_id  client_id transaction_date   amount currency  \\\n",
       "0               1        101       2024-01-15  1000.50      USD   \n",
       "1               2        102       2024-02-20   200.75      EUR   \n",
       "2               3        101       2024-03-10   150.00      USD   \n",
       "3               4        103       2024-04-05   500.25      USD   \n",
       "4               5        102       2024-05-12   300.50      EUR   \n",
       "5               6        101       2023-12-25  1200.00      USD   \n",
       "6               7        103       2024-06-01   700.00      USD   \n",
       "7               8        102       2024-07-18   400.00      EUR   \n",
       "\n",
       "  transaction_type  \n",
       "0          deposit  \n",
       "1       withdrawal  \n",
       "2          deposit  \n",
       "3       withdrawal  \n",
       "4          deposit  \n",
       "5          deposit  \n",
       "6       withdrawal  \n",
       "7       withdrawal  "
      ]
     },
     "execution_count": 5,
     "metadata": {},
     "output_type": "execute_result"
    }
   ],
   "source": [
    "transactions"
   ]
  },
  {
   "cell_type": "code",
   "execution_count": 6,
   "id": "c8eedc12-0746-46ce-afcd-3dd373edde6b",
   "metadata": {},
   "outputs": [
    {
     "data": {
      "text/html": [
       "<div>\n",
       "<style scoped>\n",
       "    .dataframe tbody tr th:only-of-type {\n",
       "        vertical-align: middle;\n",
       "    }\n",
       "\n",
       "    .dataframe tbody tr th {\n",
       "        vertical-align: top;\n",
       "    }\n",
       "\n",
       "    .dataframe thead th {\n",
       "        text-align: right;\n",
       "    }\n",
       "</style>\n",
       "<table border=\"1\" class=\"dataframe\">\n",
       "  <thead>\n",
       "    <tr style=\"text-align: right;\">\n",
       "      <th></th>\n",
       "      <th>client_id</th>\n",
       "      <th>client_name</th>\n",
       "      <th>registration_date</th>\n",
       "      <th>client_status</th>\n",
       "    </tr>\n",
       "  </thead>\n",
       "  <tbody>\n",
       "    <tr>\n",
       "      <th>0</th>\n",
       "      <td>101</td>\n",
       "      <td>Иван Иванов</td>\n",
       "      <td>2023-12-01</td>\n",
       "      <td>active</td>\n",
       "    </tr>\n",
       "    <tr>\n",
       "      <th>1</th>\n",
       "      <td>102</td>\n",
       "      <td>Петр Петров</td>\n",
       "      <td>2024-01-10</td>\n",
       "      <td>active</td>\n",
       "    </tr>\n",
       "    <tr>\n",
       "      <th>2</th>\n",
       "      <td>103</td>\n",
       "      <td>Сидор Сидоров</td>\n",
       "      <td>2024-02-15</td>\n",
       "      <td>inactive</td>\n",
       "    </tr>\n",
       "  </tbody>\n",
       "</table>\n",
       "</div>"
      ],
      "text/plain": [
       "   client_id    client_name registration_date client_status\n",
       "0        101    Иван Иванов        2023-12-01        active\n",
       "1        102    Петр Петров        2024-01-10        active\n",
       "2        103  Сидор Сидоров        2024-02-15      inactive"
      ]
     },
     "execution_count": 6,
     "metadata": {},
     "output_type": "execute_result"
    }
   ],
   "source": [
    "clients"
   ]
  },
  {
   "cell_type": "markdown",
   "id": "f82f424b-f2ea-4767-9dbd-12032f639ccf",
   "metadata": {},
   "source": [
    "# Задание 1\n",
    "\n",
    "\n",
    "\n",
    "На основе предоставленных данных необходимо получить итоговый отчет, который содержит следующую информацию для каждого активного клиента за 2024 год:\n",
    "* Общую сумму транзакций по типам операций.\n",
    "* Среднюю сумму транзакций по типам операций.\n",
    "* Количество транзакций по типам операций.\n",
    "* Дату последней транзакции.\n",
    " \n",
    "\n",
    "\n",
    "**DataFrame с агрегированными данными по активным клиентам за 2024 год, отсортированный по убыванию общей суммы транзакций.**"
   ]
  },
  {
   "cell_type": "markdown",
   "id": "031963cb-848d-4437-bbb9-ea84bc812cd2",
   "metadata": {},
   "source": [
    "## Преобразование типов данных"
   ]
  },
  {
   "cell_type": "markdown",
   "id": "0d156cd0-03ce-43cc-9d9b-9dd27916a088",
   "metadata": {},
   "source": [
    "### transactions"
   ]
  },
  {
   "cell_type": "code",
   "execution_count": 10,
   "id": "e22e786f-a268-4cda-a1a4-3d345a4f4710",
   "metadata": {},
   "outputs": [
    {
     "name": "stdout",
     "output_type": "stream",
     "text": [
      "<class 'pandas.core.frame.DataFrame'>\n",
      "RangeIndex: 8 entries, 0 to 7\n",
      "Data columns (total 6 columns):\n",
      " #   Column            Non-Null Count  Dtype \n",
      "---  ------            --------------  ----- \n",
      " 0   transaction_id    8 non-null      int64 \n",
      " 1   client_id         8 non-null      int64 \n",
      " 2   transaction_date  8 non-null      object\n",
      " 3   amount            8 non-null      object\n",
      " 4   currency          8 non-null      object\n",
      " 5   transaction_type  8 non-null      object\n",
      "dtypes: int64(2), object(4)\n",
      "memory usage: 516.0+ bytes\n"
     ]
    }
   ],
   "source": [
    "transactions.info()"
   ]
  },
  {
   "cell_type": "code",
   "execution_count": 11,
   "id": "468f877d-e36b-4580-8434-33788839fe20",
   "metadata": {},
   "outputs": [],
   "source": [
    "transactions['amount'] = transactions['amount'].astype('float')\n",
    "transactions['transaction_date'] = pd.to_datetime(transactions['transaction_date'])"
   ]
  },
  {
   "cell_type": "markdown",
   "id": "2ffed907-72d9-452d-bae7-710322985c55",
   "metadata": {},
   "source": [
    "### clients"
   ]
  },
  {
   "cell_type": "code",
   "execution_count": 13,
   "id": "3ab6e42f-be2f-4ae0-baee-98eabeeff049",
   "metadata": {},
   "outputs": [
    {
     "name": "stdout",
     "output_type": "stream",
     "text": [
      "<class 'pandas.core.frame.DataFrame'>\n",
      "RangeIndex: 3 entries, 0 to 2\n",
      "Data columns (total 4 columns):\n",
      " #   Column             Non-Null Count  Dtype \n",
      "---  ------             --------------  ----- \n",
      " 0   client_id          3 non-null      int64 \n",
      " 1   client_name        3 non-null      object\n",
      " 2   registration_date  3 non-null      object\n",
      " 3   client_status      3 non-null      object\n",
      "dtypes: int64(1), object(3)\n",
      "memory usage: 228.0+ bytes\n"
     ]
    }
   ],
   "source": [
    "clients.info()"
   ]
  },
  {
   "cell_type": "code",
   "execution_count": 14,
   "id": "5b12def1-0f18-4247-bc9b-da6bfe8b3498",
   "metadata": {},
   "outputs": [],
   "source": [
    "clients['registration_date'] = pd.to_datetime(clients['registration_date'])"
   ]
  },
  {
   "cell_type": "markdown",
   "id": "1d71f66d-8688-4525-9400-f4f44c034b38",
   "metadata": {},
   "source": [
    "## Объединение двух DataFrame"
   ]
  },
  {
   "cell_type": "code",
   "execution_count": 16,
   "id": "b83428cb-4695-46ec-a1b8-0e64275a6da0",
   "metadata": {},
   "outputs": [],
   "source": [
    "merge_df = pd.merge(transactions, clients, on='client_id', how='left')"
   ]
  },
  {
   "cell_type": "markdown",
   "id": "8465958c-4c25-4b76-95b7-1385af1a852e",
   "metadata": {},
   "source": [
    "## Оставляем активных клиентов и с транзакциями за 2024 год"
   ]
  },
  {
   "cell_type": "code",
   "execution_count": 18,
   "id": "e50b1ea6-8f03-43e1-a150-9427dda0cd47",
   "metadata": {},
   "outputs": [],
   "source": [
    "merge_df = merge_df[(merge_df['client_status'] == 'active') & (merge_df['transaction_date'].dt.year == 2024)]"
   ]
  },
  {
   "cell_type": "code",
   "execution_count": 19,
   "id": "6c2e4cd5-6f80-4ce9-95a9-2881c847ebb1",
   "metadata": {},
   "outputs": [
    {
     "data": {
      "text/html": [
       "<div>\n",
       "<style scoped>\n",
       "    .dataframe tbody tr th:only-of-type {\n",
       "        vertical-align: middle;\n",
       "    }\n",
       "\n",
       "    .dataframe tbody tr th {\n",
       "        vertical-align: top;\n",
       "    }\n",
       "\n",
       "    .dataframe thead th {\n",
       "        text-align: right;\n",
       "    }\n",
       "</style>\n",
       "<table border=\"1\" class=\"dataframe\">\n",
       "  <thead>\n",
       "    <tr style=\"text-align: right;\">\n",
       "      <th></th>\n",
       "      <th>transaction_id</th>\n",
       "      <th>client_id</th>\n",
       "      <th>transaction_date</th>\n",
       "      <th>amount</th>\n",
       "      <th>currency</th>\n",
       "      <th>transaction_type</th>\n",
       "      <th>client_name</th>\n",
       "      <th>registration_date</th>\n",
       "      <th>client_status</th>\n",
       "    </tr>\n",
       "  </thead>\n",
       "  <tbody>\n",
       "    <tr>\n",
       "      <th>0</th>\n",
       "      <td>1</td>\n",
       "      <td>101</td>\n",
       "      <td>2024-01-15</td>\n",
       "      <td>1000.50</td>\n",
       "      <td>USD</td>\n",
       "      <td>deposit</td>\n",
       "      <td>Иван Иванов</td>\n",
       "      <td>2023-12-01</td>\n",
       "      <td>active</td>\n",
       "    </tr>\n",
       "    <tr>\n",
       "      <th>1</th>\n",
       "      <td>2</td>\n",
       "      <td>102</td>\n",
       "      <td>2024-02-20</td>\n",
       "      <td>200.75</td>\n",
       "      <td>EUR</td>\n",
       "      <td>withdrawal</td>\n",
       "      <td>Петр Петров</td>\n",
       "      <td>2024-01-10</td>\n",
       "      <td>active</td>\n",
       "    </tr>\n",
       "    <tr>\n",
       "      <th>2</th>\n",
       "      <td>3</td>\n",
       "      <td>101</td>\n",
       "      <td>2024-03-10</td>\n",
       "      <td>150.00</td>\n",
       "      <td>USD</td>\n",
       "      <td>deposit</td>\n",
       "      <td>Иван Иванов</td>\n",
       "      <td>2023-12-01</td>\n",
       "      <td>active</td>\n",
       "    </tr>\n",
       "    <tr>\n",
       "      <th>4</th>\n",
       "      <td>5</td>\n",
       "      <td>102</td>\n",
       "      <td>2024-05-12</td>\n",
       "      <td>300.50</td>\n",
       "      <td>EUR</td>\n",
       "      <td>deposit</td>\n",
       "      <td>Петр Петров</td>\n",
       "      <td>2024-01-10</td>\n",
       "      <td>active</td>\n",
       "    </tr>\n",
       "    <tr>\n",
       "      <th>7</th>\n",
       "      <td>8</td>\n",
       "      <td>102</td>\n",
       "      <td>2024-07-18</td>\n",
       "      <td>400.00</td>\n",
       "      <td>EUR</td>\n",
       "      <td>withdrawal</td>\n",
       "      <td>Петр Петров</td>\n",
       "      <td>2024-01-10</td>\n",
       "      <td>active</td>\n",
       "    </tr>\n",
       "  </tbody>\n",
       "</table>\n",
       "</div>"
      ],
      "text/plain": [
       "   transaction_id  client_id transaction_date   amount currency  \\\n",
       "0               1        101       2024-01-15  1000.50      USD   \n",
       "1               2        102       2024-02-20   200.75      EUR   \n",
       "2               3        101       2024-03-10   150.00      USD   \n",
       "4               5        102       2024-05-12   300.50      EUR   \n",
       "7               8        102       2024-07-18   400.00      EUR   \n",
       "\n",
       "  transaction_type  client_name registration_date client_status  \n",
       "0          deposit  Иван Иванов        2023-12-01        active  \n",
       "1       withdrawal  Петр Петров        2024-01-10        active  \n",
       "2          deposit  Иван Иванов        2023-12-01        active  \n",
       "4          deposit  Петр Петров        2024-01-10        active  \n",
       "7       withdrawal  Петр Петров        2024-01-10        active  "
      ]
     },
     "execution_count": 19,
     "metadata": {},
     "output_type": "execute_result"
    }
   ],
   "source": [
    "merge_df"
   ]
  },
  {
   "cell_type": "markdown",
   "id": "e634e6f6-dbbf-471b-b1c4-3852cf5656f2",
   "metadata": {},
   "source": [
    "## Считаем итоговую сумму, среднее и количество выполненных транзакций по типу операций"
   ]
  },
  {
   "cell_type": "code",
   "execution_count": 21,
   "id": "5c512828-4734-4229-8a2d-f370ad53c6f0",
   "metadata": {},
   "outputs": [],
   "source": [
    "sm = merge_df.groupby('transaction_type')['amount'].sum().reset_index()"
   ]
  },
  {
   "cell_type": "code",
   "execution_count": 22,
   "id": "40298477-d338-4349-b682-5409e9d3ff46",
   "metadata": {},
   "outputs": [],
   "source": [
    "average = round(merge_df.groupby('transaction_type')['amount'].mean(), 2).reset_index()"
   ]
  },
  {
   "cell_type": "code",
   "execution_count": 23,
   "id": "25667850-257b-4262-82b8-e2111ab0184c",
   "metadata": {},
   "outputs": [],
   "source": [
    "cnt = merge_df.groupby('transaction_type')['transaction_id'].count().reset_index()"
   ]
  },
  {
   "cell_type": "markdown",
   "id": "bae1f7b6-6389-465b-a670-9d49e4c19763",
   "metadata": {},
   "source": [
    "### Объединяем в одну таблицу"
   ]
  },
  {
   "cell_type": "code",
   "execution_count": 25,
   "id": "73029321-ec3d-45c4-b81f-0e5450d9905a",
   "metadata": {},
   "outputs": [],
   "source": [
    "table = pd.merge(\n",
    "    pd.merge(sm, cnt, on='transaction_type', how='inner'), \n",
    "    average, on='transaction_type', how='inner'\n",
    ")"
   ]
  },
  {
   "cell_type": "markdown",
   "id": "a4bde910-4f14-4dcf-8e24-a0b1743a0179",
   "metadata": {},
   "source": [
    "### Задаем название столбцов"
   ]
  },
  {
   "cell_type": "code",
   "execution_count": 27,
   "id": "fddf96f2-1e8c-47a7-b638-971a5ff920ae",
   "metadata": {},
   "outputs": [],
   "source": [
    "table.columns = ['transaction_type', 'amount_sum', 'transaction_count', 'average']"
   ]
  },
  {
   "cell_type": "code",
   "execution_count": 28,
   "id": "65851637-91d4-41a3-b0af-0618d8463d7b",
   "metadata": {},
   "outputs": [],
   "source": [
    "# вывод полученного датафрейма\n",
    "table['last_date_of_transaction'] = max(merge_df['transaction_date'])"
   ]
  },
  {
   "cell_type": "code",
   "execution_count": 29,
   "id": "c7aa0d24-d7a1-4a80-a954-134ebd6e1739",
   "metadata": {},
   "outputs": [
    {
     "data": {
      "text/html": [
       "<div>\n",
       "<style scoped>\n",
       "    .dataframe tbody tr th:only-of-type {\n",
       "        vertical-align: middle;\n",
       "    }\n",
       "\n",
       "    .dataframe tbody tr th {\n",
       "        vertical-align: top;\n",
       "    }\n",
       "\n",
       "    .dataframe thead th {\n",
       "        text-align: right;\n",
       "    }\n",
       "</style>\n",
       "<table border=\"1\" class=\"dataframe\">\n",
       "  <thead>\n",
       "    <tr style=\"text-align: right;\">\n",
       "      <th></th>\n",
       "      <th>transaction_type</th>\n",
       "      <th>amount_sum</th>\n",
       "      <th>transaction_count</th>\n",
       "      <th>average</th>\n",
       "      <th>last_date_of_transaction</th>\n",
       "    </tr>\n",
       "  </thead>\n",
       "  <tbody>\n",
       "    <tr>\n",
       "      <th>0</th>\n",
       "      <td>deposit</td>\n",
       "      <td>1451.00</td>\n",
       "      <td>3</td>\n",
       "      <td>483.67</td>\n",
       "      <td>2024-07-18</td>\n",
       "    </tr>\n",
       "    <tr>\n",
       "      <th>1</th>\n",
       "      <td>withdrawal</td>\n",
       "      <td>600.75</td>\n",
       "      <td>2</td>\n",
       "      <td>300.38</td>\n",
       "      <td>2024-07-18</td>\n",
       "    </tr>\n",
       "  </tbody>\n",
       "</table>\n",
       "</div>"
      ],
      "text/plain": [
       "  transaction_type  amount_sum  transaction_count  average  \\\n",
       "0          deposit     1451.00                  3   483.67   \n",
       "1       withdrawal      600.75                  2   300.38   \n",
       "\n",
       "  last_date_of_transaction  \n",
       "0               2024-07-18  \n",
       "1               2024-07-18  "
      ]
     },
     "execution_count": 29,
     "metadata": {},
     "output_type": "execute_result"
    }
   ],
   "source": [
    "table"
   ]
  },
  {
   "cell_type": "markdown",
   "id": "76bfb9b3-533a-404b-a73f-d6bb48df4954",
   "metadata": {},
   "source": [
    "## Визуализируем полученные результаты"
   ]
  },
  {
   "cell_type": "code",
   "execution_count": 31,
   "id": "f0abedf9-2c67-4659-a209-aa12c477ab73",
   "metadata": {},
   "outputs": [
    {
     "data": {
      "image/png": "[encoded data removed]",
      "text/plain": [
       "<Figure size 1200x500 with 3 Axes>"
      ]
     },
     "metadata": {},
     "output_type": "display_data"
    },
    {
     "data": {
      "image/png": "[encoded data removed]",
      "text/plain": [
       "<Figure size 1200x1000 with 1 Axes>"
      ]
     },
     "metadata": {},
     "output_type": "display_data"
    }
   ],
   "source": [
    "lst = ['amount_sum', 'average', 'transaction_count']\n",
    "name = ['Сумма по типу', 'Среднее по типу', 'Количество по типу']\n",
    "color = ['orange', 'purple', 'blue']\n",
    "\n",
    "fig, ax = plt.subplots(1, 3, figsize=(12,5))\n",
    "\n",
    "for i, v in enumerate(lst):\n",
    "    ax[i].set_title(f'{name[i]}')\n",
    "    \n",
    "    table.plot.bar(\n",
    "    x='transaction_type',\n",
    "    y=f'{v}',\n",
    "    legend=False,\n",
    "    ax=ax[i],\n",
    "    color=color[i]\n",
    "    )\n",
    "    ax[i].set_xlabel('', rotation=0)\n",
    "    ax[i].set_ylabel(f'{lst[i]}')\n",
    "\n",
    "plt.show()\n",
    "\n",
    "\n",
    "\n",
    "plt.figure(figsize=(12, 10))\n",
    "plt.subplot(3, 1, 3)\n",
    "\n",
    "plt.title('Количество покупателей по дням')\n",
    "\n",
    "sns.lineplot(\n",
    "    merge_df.groupby(merge_df['transaction_date'])['client_id'].count().reset_index(), \n",
    "    x='transaction_date', \n",
    "    y='client_id', \n",
    "    marker='o', \n",
    "    label=table['last_date_of_transaction'].dt.date.unique()\n",
    ")\n",
    "\n",
    "plt.xlabel('Месяц')\n",
    "plt.ylabel('Количество покупателей')\n",
    "plt.yticks(np.arange(0, max(merge_df.groupby(merge_df['transaction_date'])['client_id'].count().reset_index()['client_id']) + 2, 1))\n",
    "plt.legend()\n",
    "plt.grid()\n",
    "plt.show()\n"
   ]
  },
  {
   "cell_type": "markdown",
   "id": "419fb1d0-81a6-485a-ba44-9d5e35f386db",
   "metadata": {},
   "source": [
    "# Отчет из полученных данных\n",
    "### **Процент вложенных средств**, клиентами в 2024 году и которые в настоящий момент являются пользователями финансового учреждения, **достигает 70%**, тогда как **снятие наличных достигает 30%**, данные представлены на графике 1 \"*Сумма по типу*\".\n",
    "\n",
    "### Клиенты вкладывают в финансовое учреждение в среднем по 480 условных единиц (далее - у.е.) и снимают по 300 у.е., данные представлены на графике 2 \"*Среднее по типу*\", оставляя у.е. для дальнейшего пользования текущим финансовым учреждением. На графике 3 представлено количество выполненных операций пользователями, 60% пользователей предпочитают вкладывать свои средства в депозит, последним типом операции было снятие у.е. со счета в 2024 году, активным пользователем на текущий момент.\n",
    "\n",
    "### Можно сделать вывод, что клиенты относятся положительно к депозитам нашего финансового учреждения, оставляя у.е. на своих счетах.\n"
   ]
  },
  {
   "cell_type": "code",
   "execution_count": null,
   "id": "cba79d7b-9635-4f77-a102-1ead3c19568b",
   "metadata": {},
   "outputs": [],
   "source": []
  },
  {
   "cell_type": "code",
   "execution_count": null,
   "id": "31b85e3e-0b4e-4eba-a9fe-c4e0c184351f",
   "metadata": {},
   "outputs": [],
   "source": []
  }
 ],
 "metadata": {
  "kernelspec": {
   "display_name": "Python 3 (ipykernel)",
   "language": "python",
   "name": "python3"
  },
  "language_info": {
   "codemirror_mode": {
    "name": "ipython",
    "version": 3
   },
   "file_extension": ".py",
   "mimetype": "text/x-python",
   "name": "python",
   "nbconvert_exporter": "python",
   "pygments_lexer": "ipython3",
   "version": "3.11.10"
  },
  "widgets": {
   "application/vnd.jupyter.widget-state+json": {
    "state": {},
    "version_major": 2,
    "version_minor": 0
   }
  }
 },
 "nbformat": 4,
 "nbformat_minor": 5
}
